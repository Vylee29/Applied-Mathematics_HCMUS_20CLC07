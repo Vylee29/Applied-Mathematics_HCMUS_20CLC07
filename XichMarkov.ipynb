{
 "cells": [
  {
   "cell_type": "markdown",
   "metadata": {},
   "source": [
    "# Nhân hai ma trận"
   ]
  },
  {
   "cell_type": "code",
   "execution_count": 15,
   "metadata": {},
   "outputs": [],
   "source": [
    "A=[[1,2,0],[3,0,1],[3,1,3]]\n",
    "B=[[6,5,2],[9,5,7],[7,2,3]]"
   ]
  },
  {
   "cell_type": "code",
   "execution_count": 16,
   "metadata": {},
   "outputs": [
    {
     "data": {
      "text/plain": [
       "[[24, 15, 16], [25, 17, 9], [48, 26, 22]]"
      ]
     },
     "execution_count": 16,
     "metadata": {},
     "output_type": "execute_result"
    }
   ],
   "source": [
    "def MultiMatrix (A,B):\n",
    "    rowA = len(A)\n",
    "    rowB = len(B)\n",
    "    colA = len(A[0])\n",
    "    colB = len(B[0])\n",
    "\n",
    "    if colA != rowB:\n",
    "        print('Number of 1st column must be equal with 2nd row')\n",
    "        return None\n",
    "    C=[[0 for j in range (0,colB)]for i in range (0,rowA)]\n",
    "    for i in range (rowA):\n",
    "        for j in range (colB):\n",
    "            for k in range (colA):\n",
    "                C[i][j]+=A[i][k]*B[k][j]\n",
    "    return (C)\n",
    "    \n",
    "MultiMatrix(A,B)"
   ]
  },
  {
   "cell_type": "code",
   "execution_count": 17,
   "metadata": {},
   "outputs": [
    {
     "data": {
      "text/plain": [
       "[[7, 2, 2], [6, 7, 3], [15, 9, 10]]"
      ]
     },
     "execution_count": 17,
     "metadata": {},
     "output_type": "execute_result"
    }
   ],
   "source": [
    "def p_pow (A,n):\n",
    "    P=1\n",
    "    i=0\n",
    "    j=0\n",
    "    k=0\n",
    "    m = len(A)\n",
    "    C=[[0 for j in range (0,m)]for i in range (0,m)]\n",
    "    if(n==0):\n",
    "        for i in range (m):\n",
    "            for j in range (m):\n",
    "                if (i==j):\n",
    "                    C[i][j]=1\n",
    "        return C\n",
    "    if(n!=0):\n",
    "        for k in range (n):\n",
    "            if(k==0):\n",
    "                P=A\n",
    "            else:\n",
    "                P=MultiMatrix(P,A)\n",
    "        return P\n",
    "\n",
    "p_pow(A,2)\n",
    "\n",
    "\n"
   ]
  },
  {
   "cell_type": "markdown",
   "metadata": {},
   "source": [
    "# Phan phoi dung PI"
   ]
  },
  {
   "cell_type": "code",
   "execution_count": 26,
   "metadata": {},
   "outputs": [
    {
     "name": "stdout",
     "output_type": "stream",
     "text": [
      "[[-0.6666666666666667, 0.5, 0, 0], [0.3333333333333333, -1, 0.25, 0], [0.3333333333333333, 0.5, -0.25, 0]]\n",
      "[0.24999999999999994, 0.3333333333333333, 1]\n",
      "1.5833333333333333\n"
     ]
    },
    {
     "data": {
      "text/plain": [
       "[0.15789473684210525, 0.2105263157894737, 0.6315789473684211]"
      ]
     },
     "execution_count": 26,
     "metadata": {},
     "output_type": "execute_result"
    }
   ],
   "source": [
    "A=[[1/3,1/2,0,0],[1/3,0,1/4,0],[1/3,1/2,3/4,0]]\n",
    "b=[[0, 2, 0], [3, -1, 1], [3, 1, 2]]\n",
    "C=[[1/3,3/4],[2/3,1/4]]\n",
    "def P_subtract_I (A):\n",
    "    for i in range (len(A)):\n",
    "        for j in range (len(A[0])):\n",
    "            if i==j:\n",
    "                A[i][j]=A[i][j]-1\n",
    "    return A\n",
    "def swap(a,b):\n",
    "    c=[]\n",
    "    for i in range (len(a)):\n",
    "        c.append(a[i])\n",
    "        a[i]=b[i]\n",
    "        b[i]=c[i]\n",
    "def Gauss(a):\n",
    "        # i chạy từng dòng \n",
    "        # j nhảy qua từng cột\n",
    "        i=0\n",
    "        j=0\n",
    "        while j<len(a[0]):\n",
    "            # nếu a[i][j] khác 0 thì chia dòng đó cho a[i][j]\n",
    "            if a[i][j]!=0:\n",
    "                chia=a[i][j]\n",
    "                for n in range(len(a[0])):\n",
    "                    a[i][n]/=chia\n",
    "            # nếu a[i][j] nhảy xuống dòng tiếp theo để chia những số dưới về 0\n",
    "            if a[i][j]==1:\n",
    "                k=i\n",
    "                for n in range(i+1,len(a)):\n",
    "                    chia=a[n][j]\n",
    "                    for m in range(j,len(a[0])):\n",
    "                        a[n][m]-=chia*a[i][m]\n",
    "                        if a[n][m] < 0.0000005:\n",
    "                            if a[n][m] > -0.0000005:\n",
    "                                a[n][m] = 0\n",
    "            # nếu a[i][j] ==0 thì swap với dòng dưới khác 0, nếu tất cả =0 thì nhảy qua cột bên cạnh  để thực hiện\n",
    "            elif a[i][j]==0:   \n",
    "                for h in range (i+1,len(a)):\n",
    "                    if a[h][j]!=0:\n",
    "                        swap(a[i],a[h])\n",
    "                        break\n",
    "                if(i!=len(a)-1):\n",
    "                    i=i-1\n",
    "                    j=j-1\n",
    "            i+=1\n",
    "            j+=1\n",
    "            if(i==len(a)):\n",
    "                break\n",
    "        return a\n",
    "def checkNoSolution(A):\n",
    "    n=len(A)\n",
    "    m=len(A[0])\n",
    "    for i in range(n - 1, -1, -1):\n",
    "        flag = 1 \n",
    "        for j in range(m - 2, -1, -1):\n",
    "            if A[i][j] != 0:\n",
    "                flag = 0\n",
    "                break\n",
    "        if A[i][m - 1] != 0 and flag == 1:\n",
    "            return 1\n",
    "    return 0    \n",
    "def back_substitution(A):\n",
    "    n=len(A)\n",
    "    m = len(A[0])\n",
    "    x = []\n",
    "    sum = 0\n",
    "    for i in range(m - 1):\n",
    "        x.append(0)\n",
    "    i = n\n",
    "    while i < m - 1:\n",
    "        x[i]=1\n",
    "        i+=1\n",
    "    # hàm kiểm tra vô nghiệm\n",
    "    if checkNoSolution(A):\n",
    "        print(\"Vo Nghiem\")\n",
    "        return\n",
    "    else: \n",
    "    # ngược lại hàm có nghiệm hoặc vô số nghiệm cho bậc tự do = 1 \n",
    "        i = n - 1\n",
    "        while i >= 0:\n",
    "            if A[i][i] == 0:\n",
    "                if i < m - 1:\n",
    "                    x[i] = 1\n",
    "            for j in range(m - 1):\n",
    "                if A[i][j] == 1:\n",
    "                    # tính tổng các vị trí sau vị trí sau x = 1\n",
    "                    for k in range(j + 1,m - 1):  \n",
    "                        if k < m - 1:      \n",
    "                           sum += A[i][k]*x[k]\n",
    "                    # tính nghiệm tại đó bằng a[i][m-1] - sum\n",
    "                    x[j] = A[i][m - 1] - sum\n",
    "                    break\n",
    "            sum = 0\n",
    "            i -= 1\n",
    "    return x             \n",
    "def find_Pi (A):\n",
    "    sum=0\n",
    "    for i in range (len(A)):\n",
    "        sum+=A[i]  \n",
    "    alpha= 1/sum \n",
    "    for j in range (len(A)):\n",
    "        A[j]*=alpha\n",
    "    return A\n",
    "\n",
    "\n",
    "P_subtract_I(A)\n",
    "print(A)\n",
    "Gauss(A)\n",
    "x= back_substitution(A)\n",
    "print(x)\n",
    "find_Pi(x)\n",
    "\n"
   ]
  }
 ],
 "metadata": {
  "kernelspec": {
   "display_name": "Python 3.10.4 64-bit",
   "language": "python",
   "name": "python3"
  },
  "language_info": {
   "codemirror_mode": {
    "name": "ipython",
    "version": 3
   },
   "file_extension": ".py",
   "mimetype": "text/x-python",
   "name": "python",
   "nbconvert_exporter": "python",
   "pygments_lexer": "ipython3",
   "version": "3.10.4"
  },
  "orig_nbformat": 4,
  "vscode": {
   "interpreter": {
    "hash": "beedbe2faf2f7048d727558d0bc3221e7eba2a0b921cac4d4771b2feb8f74b30"
   }
  }
 },
 "nbformat": 4,
 "nbformat_minor": 2
}
